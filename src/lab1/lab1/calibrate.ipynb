{
 "cells": [
  {
   "cell_type": "code",
   "execution_count": 1,
   "metadata": {},
   "outputs": [],
   "source": [
    "import cv2\n",
    "import numpy as np\n",
    "import yaml\n",
    "import tarfile\n",
    "import os"
   ]
  },
  {
   "cell_type": "code",
   "execution_count": null,
   "metadata": {},
   "outputs": [],
   "source": [
    "def extract_calibration_data(tar_path):\n",
    "    with tarfile.open(tar_path, 'r:gz') as tar:\n",
    "        yaml_file = [f for f in tar.getnames() if f.endswith('ost.yaml')][0]\n",
    "        tar.extract(yaml_file)\n",
    "\n",
    "        with open(yaml_file, 'r') as f:\n",
    "            calib_data = yaml.safe_load(f)\n",
    "            \n",
    "        camera_matrix = np.array(calib_data['camera_matrix']['data']).reshape(3, 3)\n",
    "        dist_coeffs = np.array(calib_data['distortion_coefficients']['data'])\n",
    "        return camera_matrix, dist_coeffs\n",
    "    \n",
    "def extract_images(tar_path):\n",
    "    with tarfile.open(tar_path, 'r:gz') as tar:\n",
    "        image_files = [f for f in tar.getnames() if f.endswith('.png')]\n",
    "        tar.extractall()\n",
    "    return image_files"
   ]
  },
  {
   "cell_type": "code",
   "execution_count": 6,
   "metadata": {},
   "outputs": [],
   "source": [
    "# https://docs.opencv.org/4.x/dc/dbb/tutorial_py_calibration.html\n",
    "# https://docs.opencv.org/3.4/d9/d0c/group__calib3d.html\n",
    "\n",
    "def calibrate_with_different_models(images_folder):\n",
    "    \"\"\"Compare different distortion models\"\"\"\n",
    "    CHECKERBOARD = (8, 6)  # TODO check this\n",
    "    criteria = (cv2.TERM_CRITERIA_EPS + cv2.TERM_CRITERIA_MAX_ITER, 30, 0.001)\n",
    "    objp = np.zeros((CHECKERBOARD[0] * CHECKERBOARD[1], 3), np.float32)\n",
    "    objp[:, :2] = np.mgrid[0:CHECKERBOARD[0], 0:CHECKERBOARD[1]].T.reshape(-1, 2)\n",
    "    \n",
    "    objpoints, imgpoints = [], []\n",
    "    \n",
    "    for fname in os.listdir(images_folder):\n",
    "        if fname.endswith('.jpg') or fname.endswith('.png'):\n",
    "            img = cv2.imread(os.path.join(images_folder, fname))\n",
    "            gray = cv2.cvtColor(img, cv2.COLOR_BGR2GRAY)\n",
    "            ret, corners = cv2.findChessboardCorners(gray, CHECKERBOARD, None)\n",
    "            if ret:\n",
    "                objpoints.append(objp)\n",
    "                corners2 = cv2.cornerSubPix(gray, corners, (11,11), (-1,-1), criteria)\n",
    "                imgpoints.append(corners2)\n",
    "    \n",
    "    results = {}\n",
    "    \n",
    "    # (k1, k2, p1, p2, k3)\n",
    "    # k1, k2, k3 - radial distortion coefficients\n",
    "    # p1, p2 - tangential distortion coefficients\n",
    "    ret, mtx, dist, rvecs, tvecs = cv2.calibrateCamera(\n",
    "        objpoints, imgpoints, gray.shape[::-1], None, None\n",
    "    )\n",
    "    results['default'] = {'matrix': mtx, 'dist': dist, 'error': ret}\n",
    "    \n",
    "    ret, mtx, dist, rvecs, tvecs = cv2.calibrateCamera(\n",
    "        objpoints, imgpoints, gray.shape[::-1], None, None,\n",
    "        flags=cv2.CALIB_RATIONAL_MODEL\n",
    "    )\n",
    "    results['rational'] = {'matrix': mtx, 'dist': dist, 'error': ret}\n",
    "    \n",
    "    ret, mtx, dist, rvecs, tvecs = cv2.calibrateCamera(\n",
    "        objpoints, imgpoints, gray.shape[::-1], None, None,\n",
    "        flags=cv2.CALIB_THIN_PRISM_MODEL\n",
    "    )\n",
    "    results['thin_prism'] = {'matrix': mtx, 'dist': dist, 'error': ret}\n",
    "    \n",
    "    def calc_reprojection_error(objpoints, imgpoints, mtx, dist, rvecs, tvecs):\n",
    "        mean_error = 0\n",
    "        for i in range(len(objpoints)):\n",
    "            imgpoints2, _ = cv2.projectPoints(objpoints[i], rvecs[i], tvecs[i], mtx, dist)\n",
    "            error = cv2.norm(imgpoints[i], imgpoints2, cv2.NORM_L2)/len(imgpoints2)\n",
    "            mean_error += error\n",
    "        return mean_error/len(objpoints)\n",
    "    \n",
    "    for model in results:\n",
    "        error = calc_reprojection_error(\n",
    "            objpoints, imgpoints, \n",
    "            results[model]['matrix'], \n",
    "            results[model]['dist'],\n",
    "            rvecs, tvecs\n",
    "        )\n",
    "        results[model]['reprojection_error'] = error\n",
    "    \n",
    "    return results"
   ]
  },
  {
   "cell_type": "code",
   "execution_count": 5,
   "metadata": {},
   "outputs": [
    {
     "name": "stdout",
     "output_type": "stream",
     "text": [
      "camera matrix and distortion coefficients extracted from calibration.tar.gz:\n",
      "[[290.46301   0.      312.90291]\n",
      " [  0.      290.3703  203.01488]\n",
      " [  0.        0.        1.     ]]\n",
      "__________________________________________________\n",
      "[-2.79797e-01  6.43090e-02 -6.80000e-05  1.96700e-03  0.00000e+00]\n"
     ]
    }
   ],
   "source": [
    "camera_matrix, dist_coeffs = extract_calibration_data('calibrationdata.tar.gz')\n",
    "print(\"camera matrix and distortion coefficients extracted from calibration.tar.gz:\")\n",
    "print(camera_matrix)\n",
    "print(\"_\"*50)\n",
    "print(dist_coeffs)"
   ]
  },
  {
   "cell_type": "code",
   "execution_count": 7,
   "metadata": {},
   "outputs": [
    {
     "ename": "FileNotFoundError",
     "evalue": "[WinError 3] The system cannot find the path specified: 'calibration_images/'",
     "output_type": "error",
     "traceback": [
      "\u001b[1;31m---------------------------------------------------------------------------\u001b[0m",
      "\u001b[1;31mFileNotFoundError\u001b[0m                         Traceback (most recent call last)",
      "Cell \u001b[1;32mIn[7], line 1\u001b[0m\n\u001b[1;32m----> 1\u001b[0m results \u001b[38;5;241m=\u001b[39m \u001b[43mcalibrate_with_different_models\u001b[49m\u001b[43m(\u001b[49m\u001b[38;5;124;43m'\u001b[39;49m\u001b[38;5;124;43mcalibration_images/\u001b[39;49m\u001b[38;5;124;43m'\u001b[39;49m\u001b[43m)\u001b[49m\n",
      "Cell \u001b[1;32mIn[6], line 13\u001b[0m, in \u001b[0;36mcalibrate_with_different_models\u001b[1;34m(images_folder)\u001b[0m\n\u001b[0;32m      9\u001b[0m objp[:, :\u001b[38;5;241m2\u001b[39m] \u001b[38;5;241m=\u001b[39m np\u001b[38;5;241m.\u001b[39mmgrid[\u001b[38;5;241m0\u001b[39m:CHECKERBOARD[\u001b[38;5;241m0\u001b[39m], \u001b[38;5;241m0\u001b[39m:CHECKERBOARD[\u001b[38;5;241m1\u001b[39m]]\u001b[38;5;241m.\u001b[39mT\u001b[38;5;241m.\u001b[39mreshape(\u001b[38;5;241m-\u001b[39m\u001b[38;5;241m1\u001b[39m, \u001b[38;5;241m2\u001b[39m)\n\u001b[0;32m     11\u001b[0m objpoints, imgpoints \u001b[38;5;241m=\u001b[39m [], []\n\u001b[1;32m---> 13\u001b[0m \u001b[38;5;28;01mfor\u001b[39;00m fname \u001b[38;5;129;01min\u001b[39;00m \u001b[43mos\u001b[49m\u001b[38;5;241;43m.\u001b[39;49m\u001b[43mlistdir\u001b[49m\u001b[43m(\u001b[49m\u001b[43mimages_folder\u001b[49m\u001b[43m)\u001b[49m:\n\u001b[0;32m     14\u001b[0m     \u001b[38;5;28;01mif\u001b[39;00m fname\u001b[38;5;241m.\u001b[39mendswith(\u001b[38;5;124m'\u001b[39m\u001b[38;5;124m.jpg\u001b[39m\u001b[38;5;124m'\u001b[39m) \u001b[38;5;129;01mor\u001b[39;00m fname\u001b[38;5;241m.\u001b[39mendswith(\u001b[38;5;124m'\u001b[39m\u001b[38;5;124m.png\u001b[39m\u001b[38;5;124m'\u001b[39m):\n\u001b[0;32m     15\u001b[0m         img \u001b[38;5;241m=\u001b[39m cv2\u001b[38;5;241m.\u001b[39mimread(os\u001b[38;5;241m.\u001b[39mpath\u001b[38;5;241m.\u001b[39mjoin(images_folder, fname))\n",
      "\u001b[1;31mFileNotFoundError\u001b[0m: [WinError 3] The system cannot find the path specified: 'calibration_images/'"
     ]
    }
   ],
   "source": [
    "results = calibrate_with_different_models('calibration_images/')"
   ]
  },
  {
   "cell_type": "code",
   "execution_count": null,
   "metadata": {},
   "outputs": [],
   "source": [
    "def compare_distortion(dist1, dist2):\n",
    "    \"\"\"Compare two distortion coefficients\"\"\"\n",
    "    print(\"Default distortion:\", dist1)\n",
    "    print(\"Advanced distortion:\", dist2)\n",
    "    print(\"Difference:\", np.abs(dist1 - dist2))"
   ]
  }
 ],
 "metadata": {
  "kernelspec": {
   "display_name": "ros_env",
   "language": "python",
   "name": "python3"
  },
  "language_info": {
   "codemirror_mode": {
    "name": "ipython",
    "version": 3
   },
   "file_extension": ".py",
   "mimetype": "text/x-python",
   "name": "python",
   "nbconvert_exporter": "python",
   "pygments_lexer": "ipython3",
   "version": "3.11.8"
  }
 },
 "nbformat": 4,
 "nbformat_minor": 2
}

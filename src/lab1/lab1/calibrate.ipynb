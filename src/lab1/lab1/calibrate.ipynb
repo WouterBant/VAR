{
 "cells": [
  {
   "cell_type": "code",
   "execution_count": 17,
   "metadata": {},
   "outputs": [],
   "source": [
    "import cv2\n",
    "import numpy as np\n",
    "import yaml\n",
    "import tarfile\n",
    "import os"
   ]
  },
  {
   "cell_type": "code",
   "execution_count": 18,
   "metadata": {},
   "outputs": [],
   "source": [
    "def extract_calibration_data(tar_path):\n",
    "    with tarfile.open(tar_path, 'r:gz') as tar:\n",
    "        yaml_file = [f for f in tar.getnames() if f.endswith('ost.yaml')][0]\n",
    "        tar.extract(yaml_file)\n",
    "\n",
    "        with open(yaml_file, 'r') as f:\n",
    "            calib_data = yaml.safe_load(f)\n",
    "            \n",
    "        camera_matrix = np.array(calib_data['camera_matrix']['data']).reshape(3, 3)\n",
    "        dist_coeffs = np.array(calib_data['distortion_coefficients']['data'])\n",
    "        return camera_matrix, dist_coeffs\n",
    "    \n",
    "def extract_images(tar_path):\n",
    "    with tarfile.open(tar_path, 'r:gz') as tar:\n",
    "        image_files = [f for f in tar.getnames() if f.endswith('.png')]\n",
    "        tar.extractall()\n",
    "    return image_files"
   ]
  },
  {
   "cell_type": "code",
   "execution_count": 19,
   "metadata": {},
   "outputs": [],
   "source": [
    "# https://docs.opencv.org/4.x/dc/dbb/tutorial_py_calibration.html\n",
    "# https://docs.opencv.org/3.4/d9/d0c/group__calib3d.html\n",
    "\n",
    "def calibrate_with_different_models(images_folder):\n",
    "    \"\"\"Compare different distortion models\"\"\"\n",
    "    CHECKERBOARD = (5, 8)  # TODO check this\n",
    "    criteria = (cv2.TERM_CRITERIA_EPS + cv2.TERM_CRITERIA_MAX_ITER, 30, 0.001)\n",
    "    objp = np.zeros((CHECKERBOARD[0] * CHECKERBOARD[1], 3), np.float32)\n",
    "    objp[:, :2] = np.mgrid[0:CHECKERBOARD[0], 0:CHECKERBOARD[1]].T.reshape(-1, 2)\n",
    "    \n",
    "    objpoints, imgpoints = [], []\n",
    "    \n",
    "    for fname in os.listdir(images_folder):\n",
    "        if fname.endswith('.jpg') or fname.endswith('.png'):\n",
    "            img = cv2.imread(os.path.join(images_folder, fname))\n",
    "            gray = cv2.cvtColor(img, cv2.COLOR_BGR2GRAY)\n",
    "            ret, corners = cv2.findChessboardCorners(gray, CHECKERBOARD, None)\n",
    "            if ret:\n",
    "                objpoints.append(objp)\n",
    "                corners2 = cv2.cornerSubPix(gray, corners, (11,11), (-1,-1), criteria)\n",
    "                imgpoints.append(corners2)\n",
    "    \n",
    "    results = {}\n",
    "\n",
    "    # (k1, k2, p1, p2, k3)\n",
    "    # k1, k2, k3 - radial distortion coefficients\n",
    "    # p1, p2 - tangential distortion coefficients\n",
    "    ret, mtx, dist, rvecs, tvecs = cv2.calibrateCamera(\n",
    "        objpoints, imgpoints, gray.shape[::-1], None, None\n",
    "    )\n",
    "    results['default'] = {'matrix': mtx, 'dist': dist, 'error': ret}\n",
    "    \n",
    "    ret, mtx, dist, rvecs, tvecs = cv2.calibrateCamera(\n",
    "        objpoints, imgpoints, gray.shape[::-1], None, None,\n",
    "        flags=cv2.CALIB_RATIONAL_MODEL\n",
    "    )\n",
    "    results['rational'] = {'matrix': mtx, 'dist': dist, 'error': ret}\n",
    "    \n",
    "    ret, mtx, dist, rvecs, tvecs = cv2.calibrateCamera(\n",
    "        objpoints, imgpoints, gray.shape[::-1], None, None,\n",
    "        flags=cv2.CALIB_THIN_PRISM_MODEL\n",
    "    )\n",
    "    results['thin_prism'] = {'matrix': mtx, 'dist': dist, 'error': ret}\n",
    "    \n",
    "    def calc_reprojection_error(objpoints, imgpoints, mtx, dist, rvecs, tvecs):\n",
    "        mean_error = 0\n",
    "        for i in range(len(objpoints)):\n",
    "            imgpoints2, _ = cv2.projectPoints(objpoints[i], rvecs[i], tvecs[i], mtx, dist)\n",
    "            error = cv2.norm(imgpoints[i], imgpoints2, cv2.NORM_L2)/len(imgpoints2)\n",
    "            mean_error += error\n",
    "        return mean_error/len(objpoints)\n",
    "    \n",
    "    for model in results:\n",
    "        error = calc_reprojection_error(\n",
    "            objpoints, imgpoints, \n",
    "            results[model]['matrix'], \n",
    "            results[model]['dist'],\n",
    "            rvecs, tvecs\n",
    "        )\n",
    "        results[model]['reprojection_error'] = error\n",
    "    \n",
    "    return results"
   ]
  },
  {
   "cell_type": "code",
   "execution_count": 20,
   "metadata": {},
   "outputs": [
    {
     "name": "stdout",
     "output_type": "stream",
     "text": [
      "camera matrix and distortion coefficients extracted from calibration.tar.gz:\n",
      "[[290.46301   0.      312.90291]\n",
      " [  0.      290.3703  203.01488]\n",
      " [  0.        0.        1.     ]]\n",
      "__________________________________________________\n",
      "[-2.79797e-01  6.43090e-02 -6.80000e-05  1.96700e-03  0.00000e+00]\n"
     ]
    }
   ],
   "source": [
    "camera_matrix, dist_coeffs = extract_calibration_data('calibrationdata.tar.gz')\n",
    "print(\"camera matrix and distortion coefficients extracted from calibration.tar.gz:\")\n",
    "print(camera_matrix)\n",
    "print(\"_\"*50)\n",
    "print(dist_coeffs)"
   ]
  },
  {
   "cell_type": "code",
   "execution_count": 21,
   "metadata": {},
   "outputs": [],
   "source": [
    "with tarfile.open('calibrationdata.tar.gz', 'r:gz') as tar:\n",
    "        tar.extractall(path='calibration_images')\n",
    "\n",
    "results = calibrate_with_different_models('calibration_images')"
   ]
  },
  {
   "cell_type": "code",
   "execution_count": 22,
   "metadata": {},
   "outputs": [],
   "source": [
    "def compare_distortion(dist1, dist2):\n",
    "    \"\"\"Compare two distortion coefficients\"\"\"\n",
    "    print(\"Default distortion:\", dist1)\n",
    "    print(\"Advanced distortion:\", dist2)\n",
    "    print(\"Difference:\", np.abs(dist1 - dist2))"
   ]
  },
  {
   "cell_type": "code",
   "execution_count": 25,
   "metadata": {},
   "outputs": [
    {
     "name": "stdout",
     "output_type": "stream",
     "text": [
      "Method: default\n",
      "Camera matrix:\n",
      " array([[273.65040714,   0.        , 319.00840397],\n",
      "       [  0.        , 273.54797239, 203.11695824],\n",
      "       [  0.        ,   0.        ,   1.        ]])\n",
      "Distortion coefficients:\n",
      " array([[-0.28416529,  0.09616325, -0.00031899,  0.0012947 , -0.01529113]])\n",
      "Reprojection error:\n",
      " 2.6639218460654894\n",
      "__________________________________________________\n",
      "Method: rational\n",
      "Camera matrix:\n",
      " array([[273.20605262,   0.        , 320.87089782],\n",
      "       [  0.        , 273.08427035, 203.25003755],\n",
      "       [  0.        ,   0.        ,   1.        ]])\n",
      "Distortion coefficients:\n",
      " array([[-0.14005281, -0.1463477 , -0.00050158,  0.00081933,  0.00344204,\n",
      "         0.17342913, -0.26600101, -0.00599146,  0.        ,  0.        ,\n",
      "         0.        ,  0.        ,  0.        ,  0.        ]])\n",
      "Reprojection error:\n",
      " 2.8789786858706985\n",
      "__________________________________________________\n",
      "Method: thin_prism\n",
      "Camera matrix:\n",
      " array([[274.61629303,   0.        , 305.28148118],\n",
      "       [  0.        , 274.71260003, 192.29090248],\n",
      "       [  0.        ,   0.        ,   1.        ]])\n",
      "Distortion coefficients:\n",
      " array([[-0.29394562,  0.11084073, -0.00548286, -0.00508527, -0.02123716,\n",
      "         0.        ,  0.        ,  0.        ,  0.019926  , -0.00193285,\n",
      "         0.01534379, -0.00206454]])\n",
      "Reprojection error:\n",
      " 0.05666078689596333\n",
      "__________________________________________________\n"
     ]
    }
   ],
   "source": [
    "for method in results:\n",
    "    print(\"Method:\", method)\n",
    "    print(\"Camera matrix:\\n\", repr(results[method]['matrix']))\n",
    "    print(\"Distortion coefficients:\\n\", repr(results[method]['dist']))\n",
    "    print(\"Reprojection error:\\n\", repr(results[method]['reprojection_error']))\n",
    "    print(\"_\"*50)"
   ]
  },
  {
   "cell_type": "code",
   "execution_count": null,
   "metadata": {},
   "outputs": [],
   "source": []
  }
 ],
 "metadata": {
  "kernelspec": {
   "display_name": "ros_env",
   "language": "python",
   "name": "python3"
  },
  "language_info": {
   "codemirror_mode": {
    "name": "ipython",
    "version": 3
   },
   "file_extension": ".py",
   "mimetype": "text/x-python",
   "name": "python",
   "nbconvert_exporter": "python",
   "pygments_lexer": "ipython3",
   "version": "3.11.8"
  }
 },
 "nbformat": 4,
 "nbformat_minor": 2
}
